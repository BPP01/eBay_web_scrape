{
 "cells": [
  {
   "cell_type": "markdown",
   "id": "ed2dc625",
   "metadata": {},
   "source": [
    "# eBay Scraper and EDA for iPhone Prices From Past Auctions"
   ]
  },
  {
   "cell_type": "markdown",
   "id": "4815a87b",
   "metadata": {},
   "source": [
    "In this notebook we will be looking though some data I have scraped from eBay concerning the price of iPhones that were sold on the online auction website eBay. All of these samples were produced using the HTML session script that I wrote to parse out data from a custom eBay search I did. \n",
    "\n",
    "The code for that will be below before I start separating out the data, cleaning it and having a look into some EDA. \n",
    "\n",
    "The main things I would like to know from this dataset are: \n",
    "\n",
    "1. What is the typical cost of a specific kind of iPhone? \n",
    "\n",
    "2. What is the variation around this price? \n",
    "\n",
    "3. How quickly does the value of an iPhone fall when new generations are released\n",
    "\n",
    "4. Is price variance similar across all models\n",
    "\n",
    "5. Does the memory or buying format of the item have as much of an impact on the value as the generation of iPhone\n",
    "\n",
    "6. Are iPhones cheaper when bought at auction or at buy it now? (This will require a second web scrape) \n",
    "\n",
    "7. Does it make sense to buy an iPhone from another country and pay to have it shipped (including import taxes) to the UK? (This will also require a separate scrape.\n",
    "\n",
    "8. Is the value of a certain iPhone changing over time? \n",
    "\n",
    "One approach could be to write the scraper as a free standing program which I give inputs. However because the custom nature of the search URL I feel it is easier to have it here each time. "
   ]
  },
  {
   "cell_type": "code",
   "execution_count": 24,
   "id": "6f349297",
   "metadata": {},
   "outputs": [],
   "source": [
    "from requests_html import HTMLSession\n",
    "import pandas as pd\n",
    "from tqdm import tqdm\n",
    "\n",
    "s = HTMLSession()\n",
    "def ebay_scraper():\n",
    "    data2 = []\n",
    "    keyword = input('Search term: ')\n",
    "    pages = int(input('Number of pages of results to analyse: '))\n",
    "    urls = [\"https://www.ebay.co.uk/sch/i.html?_fsrp=1&rt=nc&_from=R40&_nkw={}&_sacat=0&LH_Sold=1&LH_Auction=1&_pgn={}\".format(keyword,x)for x in range (1,pages)]\n",
    "    for url in tqdm(urls):\n",
    "        request = s.get(url)\n",
    "\n",
    "        content = request.html.find('div.s-item__info.clearfix')\n",
    "        for items in content:\n",
    "            price = items.find('span.s-item__price', first=True).text\n",
    "            title = items.find('h3.s-item__title', first=True).text\n",
    "            subtitle = items.find('div.s-item__subtitle', first=True).text\n",
    "            try:\n",
    "                item_location = items.find('span.s-item__location.s-item__itemLocation', first=True).text\n",
    "            except:\n",
    "                item_location = 'UK'\n",
    "            try:\n",
    "                bids = items.find('span.s-item__bids.s-item__bidCount', first=True).text\n",
    "            except:\n",
    "                bids = 'N/A'\n",
    "            try:\n",
    "                date_sold = items.find('div.s-item__title--tagblock', first=True).text.rstrip(\"Sold item\").lstrip(\"Sold Item\").lstrip('Sold Item').rstrip(\"Sold I\")\n",
    "            except:\n",
    "                date_sold = 'N/A'\n",
    "\n",
    "            data2.append([price,title,subtitle,bids,date_sold])\n",
    "\n",
    "    df = pd.DataFrame(data2, columns = ['Price','Title','Subtitle','Bids','Date_Sold'])\n",
    "    df.to_csv(f'{keyword}_eBay_scrape.csv')\n",
    "    return df\n"
   ]
  },
  {
   "cell_type": "code",
   "execution_count": 25,
   "id": "66cb4ef7",
   "metadata": {},
   "outputs": [
    {
     "name": "stdout",
     "output_type": "stream",
     "text": [
      "Search term: iPhone12 \n",
      "Number of pages of results to analyse: 100\n"
     ]
    },
    {
     "name": "stderr",
     "output_type": "stream",
     "text": [
      "100%|███████████████████████████████████████████| 99/99 [02:07<00:00,  1.29s/it]\n"
     ]
    }
   ],
   "source": [
    "df1 = ebay_scraper()"
   ]
  },
  {
   "cell_type": "code",
   "execution_count": 26,
   "id": "b906eeac",
   "metadata": {},
   "outputs": [
    {
     "data": {
      "text/html": [
       "<div>\n",
       "<style scoped>\n",
       "    .dataframe tbody tr th:only-of-type {\n",
       "        vertical-align: middle;\n",
       "    }\n",
       "\n",
       "    .dataframe tbody tr th {\n",
       "        vertical-align: top;\n",
       "    }\n",
       "\n",
       "    .dataframe thead th {\n",
       "        text-align: right;\n",
       "    }\n",
       "</style>\n",
       "<table border=\"1\" class=\"dataframe\">\n",
       "  <thead>\n",
       "    <tr style=\"text-align: right;\">\n",
       "      <th></th>\n",
       "      <th>Price</th>\n",
       "      <th>Title</th>\n",
       "      <th>Subtitle</th>\n",
       "      <th>Bids</th>\n",
       "      <th>Date_Sold</th>\n",
       "    </tr>\n",
       "  </thead>\n",
       "  <tbody>\n",
       "    <tr>\n",
       "      <th>0</th>\n",
       "      <td>$20.00</td>\n",
       "      <td>Shop on eBay</td>\n",
       "      <td>Brand New</td>\n",
       "      <td>N/A</td>\n",
       "      <td>N/A</td>\n",
       "    </tr>\n",
       "    <tr>\n",
       "      <th>1</th>\n",
       "      <td>£341.01</td>\n",
       "      <td>Apple iPhone 12 - 64GB - Blue (Unlocked) - Fas...</td>\n",
       "      <td>Pre-owned</td>\n",
       "      <td>8 bids</td>\n",
       "      <td>1 Aug 2022</td>\n",
       "    </tr>\n",
       "    <tr>\n",
       "      <th>2</th>\n",
       "      <td>£585.00</td>\n",
       "      <td>Apple iPhone 12 Pro Max - 128GB - Pacific Blue...</td>\n",
       "      <td>Pre-owned</td>\n",
       "      <td>10 bids</td>\n",
       "      <td>1 Aug 2022</td>\n",
       "    </tr>\n",
       "    <tr>\n",
       "      <th>3</th>\n",
       "      <td>£285.00</td>\n",
       "      <td>DAMAGED APPLE iPHONE 12 PRO MAX 128GB UNLOCKED...</td>\n",
       "      <td>Parts only</td>\n",
       "      <td>32 bids</td>\n",
       "      <td>1 Aug 2022</td>\n",
       "    </tr>\n",
       "    <tr>\n",
       "      <th>4</th>\n",
       "      <td>£660.00</td>\n",
       "      <td>iPhone 12 Pro Max 512 GB Pacific Blue</td>\n",
       "      <td>Pre-owned</td>\n",
       "      <td>4 bids</td>\n",
       "      <td>1 Aug 2022</td>\n",
       "    </tr>\n",
       "    <tr>\n",
       "      <th>...</th>\n",
       "      <td>...</td>\n",
       "      <td>...</td>\n",
       "      <td>...</td>\n",
       "      <td>...</td>\n",
       "      <td>...</td>\n",
       "    </tr>\n",
       "    <tr>\n",
       "      <th>5788</th>\n",
       "      <td>£689.00</td>\n",
       "      <td>Apple iPhone 12 Pro Max - 256GB - Pacific Blue...</td>\n",
       "      <td>Pre-owned</td>\n",
       "      <td>3 bids</td>\n",
       "      <td>3 May 2022</td>\n",
       "    </tr>\n",
       "    <tr>\n",
       "      <th>5789</th>\n",
       "      <td>£350.00</td>\n",
       "      <td>Apple iPhone 12 mini - 64GB - Midnight Blue (U...</td>\n",
       "      <td>Pre-owned</td>\n",
       "      <td>54 bids</td>\n",
       "      <td>3 May 2022</td>\n",
       "    </tr>\n",
       "    <tr>\n",
       "      <th>5790</th>\n",
       "      <td>£340.00</td>\n",
       "      <td>Apple iPhone 12 - 64GB - Black (Unlocked)</td>\n",
       "      <td>Pre-owned</td>\n",
       "      <td>1 bid</td>\n",
       "      <td>3 May 2022</td>\n",
       "    </tr>\n",
       "    <tr>\n",
       "      <th>5791</th>\n",
       "      <td>£104.00</td>\n",
       "      <td>Apple iPhone 12 SPARES &amp; REPAIRS 64GB Black Un...</td>\n",
       "      <td>Parts only</td>\n",
       "      <td>19 bids</td>\n",
       "      <td>3 May 2022</td>\n",
       "    </tr>\n",
       "    <tr>\n",
       "      <th>5792</th>\n",
       "      <td>£193.99</td>\n",
       "      <td>Apple iPhone 12 Pro A2407 SPARES AND REPAIRS 1...</td>\n",
       "      <td>Parts only</td>\n",
       "      <td>37 bids</td>\n",
       "      <td>3 May 2022</td>\n",
       "    </tr>\n",
       "  </tbody>\n",
       "</table>\n",
       "<p>5793 rows × 5 columns</p>\n",
       "</div>"
      ],
      "text/plain": [
       "        Price                                              Title    Subtitle  \\\n",
       "0      $20.00                                       Shop on eBay   Brand New   \n",
       "1     £341.01  Apple iPhone 12 - 64GB - Blue (Unlocked) - Fas...   Pre-owned   \n",
       "2     £585.00  Apple iPhone 12 Pro Max - 128GB - Pacific Blue...   Pre-owned   \n",
       "3     £285.00  DAMAGED APPLE iPHONE 12 PRO MAX 128GB UNLOCKED...  Parts only   \n",
       "4     £660.00              iPhone 12 Pro Max 512 GB Pacific Blue   Pre-owned   \n",
       "...       ...                                                ...         ...   \n",
       "5788  £689.00  Apple iPhone 12 Pro Max - 256GB - Pacific Blue...   Pre-owned   \n",
       "5789  £350.00  Apple iPhone 12 mini - 64GB - Midnight Blue (U...   Pre-owned   \n",
       "5790  £340.00          Apple iPhone 12 - 64GB - Black (Unlocked)   Pre-owned   \n",
       "5791  £104.00  Apple iPhone 12 SPARES & REPAIRS 64GB Black Un...  Parts only   \n",
       "5792  £193.99  Apple iPhone 12 Pro A2407 SPARES AND REPAIRS 1...  Parts only   \n",
       "\n",
       "         Bids   Date_Sold  \n",
       "0         N/A         N/A  \n",
       "1      8 bids  1 Aug 2022  \n",
       "2     10 bids  1 Aug 2022  \n",
       "3     32 bids  1 Aug 2022  \n",
       "4      4 bids  1 Aug 2022  \n",
       "...       ...         ...  \n",
       "5788   3 bids  3 May 2022  \n",
       "5789  54 bids  3 May 2022  \n",
       "5790    1 bid  3 May 2022  \n",
       "5791  19 bids  3 May 2022  \n",
       "5792  37 bids  3 May 2022  \n",
       "\n",
       "[5793 rows x 5 columns]"
      ]
     },
     "execution_count": 26,
     "metadata": {},
     "output_type": "execute_result"
    }
   ],
   "source": [
    "df1"
   ]
  },
  {
   "cell_type": "code",
   "execution_count": 27,
   "id": "35587279",
   "metadata": {},
   "outputs": [
    {
     "data": {
      "text/html": [
       "<div>\n",
       "<style scoped>\n",
       "    .dataframe tbody tr th:only-of-type {\n",
       "        vertical-align: middle;\n",
       "    }\n",
       "\n",
       "    .dataframe tbody tr th {\n",
       "        vertical-align: top;\n",
       "    }\n",
       "\n",
       "    .dataframe thead th {\n",
       "        text-align: right;\n",
       "    }\n",
       "</style>\n",
       "<table border=\"1\" class=\"dataframe\">\n",
       "  <thead>\n",
       "    <tr style=\"text-align: right;\">\n",
       "      <th></th>\n",
       "      <th>Price</th>\n",
       "      <th>Title</th>\n",
       "      <th>Subtitle</th>\n",
       "      <th>Bids</th>\n",
       "      <th>Date_Sold</th>\n",
       "    </tr>\n",
       "  </thead>\n",
       "  <tbody>\n",
       "    <tr>\n",
       "      <th>1</th>\n",
       "      <td>341.01</td>\n",
       "      <td>Apple iPhone 12 - 64GB - Blue (Unlocked) - Fas...</td>\n",
       "      <td>Pre-owned</td>\n",
       "      <td>8 bids</td>\n",
       "      <td>1 Aug 2022</td>\n",
       "    </tr>\n",
       "    <tr>\n",
       "      <th>2</th>\n",
       "      <td>585.00</td>\n",
       "      <td>Apple iPhone 12 Pro Max - 128GB - Pacific Blue...</td>\n",
       "      <td>Pre-owned</td>\n",
       "      <td>10 bids</td>\n",
       "      <td>1 Aug 2022</td>\n",
       "    </tr>\n",
       "    <tr>\n",
       "      <th>3</th>\n",
       "      <td>285.00</td>\n",
       "      <td>DAMAGED APPLE iPHONE 12 PRO MAX 128GB UNLOCKED...</td>\n",
       "      <td>Parts only</td>\n",
       "      <td>32 bids</td>\n",
       "      <td>1 Aug 2022</td>\n",
       "    </tr>\n",
       "    <tr>\n",
       "      <th>4</th>\n",
       "      <td>660.00</td>\n",
       "      <td>iPhone 12 Pro Max 512 GB Pacific Blue</td>\n",
       "      <td>Pre-owned</td>\n",
       "      <td>4 bids</td>\n",
       "      <td>1 Aug 2022</td>\n",
       "    </tr>\n",
       "    <tr>\n",
       "      <th>5</th>\n",
       "      <td>351.00</td>\n",
       "      <td>DAMAGED APPLE iPHONE 12 PRO MAX 128GB SMARTPHO...</td>\n",
       "      <td>Parts only</td>\n",
       "      <td>25 bids</td>\n",
       "      <td>1 Aug 2022</td>\n",
       "    </tr>\n",
       "    <tr>\n",
       "      <th>...</th>\n",
       "      <td>...</td>\n",
       "      <td>...</td>\n",
       "      <td>...</td>\n",
       "      <td>...</td>\n",
       "      <td>...</td>\n",
       "    </tr>\n",
       "    <tr>\n",
       "      <th>5788</th>\n",
       "      <td>689.00</td>\n",
       "      <td>Apple iPhone 12 Pro Max - 256GB - Pacific Blue...</td>\n",
       "      <td>Pre-owned</td>\n",
       "      <td>3 bids</td>\n",
       "      <td>3 May 2022</td>\n",
       "    </tr>\n",
       "    <tr>\n",
       "      <th>5789</th>\n",
       "      <td>350.00</td>\n",
       "      <td>Apple iPhone 12 mini - 64GB - Midnight Blue (U...</td>\n",
       "      <td>Pre-owned</td>\n",
       "      <td>54 bids</td>\n",
       "      <td>3 May 2022</td>\n",
       "    </tr>\n",
       "    <tr>\n",
       "      <th>5790</th>\n",
       "      <td>340.00</td>\n",
       "      <td>Apple iPhone 12 - 64GB - Black (Unlocked)</td>\n",
       "      <td>Pre-owned</td>\n",
       "      <td>1 bid</td>\n",
       "      <td>3 May 2022</td>\n",
       "    </tr>\n",
       "    <tr>\n",
       "      <th>5791</th>\n",
       "      <td>104.00</td>\n",
       "      <td>Apple iPhone 12 SPARES &amp; REPAIRS 64GB Black Un...</td>\n",
       "      <td>Parts only</td>\n",
       "      <td>19 bids</td>\n",
       "      <td>3 May 2022</td>\n",
       "    </tr>\n",
       "    <tr>\n",
       "      <th>5792</th>\n",
       "      <td>193.99</td>\n",
       "      <td>Apple iPhone 12 Pro A2407 SPARES AND REPAIRS 1...</td>\n",
       "      <td>Parts only</td>\n",
       "      <td>37 bids</td>\n",
       "      <td>3 May 2022</td>\n",
       "    </tr>\n",
       "  </tbody>\n",
       "</table>\n",
       "<p>5694 rows × 5 columns</p>\n",
       "</div>"
      ],
      "text/plain": [
       "       Price                                              Title    Subtitle  \\\n",
       "1     341.01  Apple iPhone 12 - 64GB - Blue (Unlocked) - Fas...   Pre-owned   \n",
       "2     585.00  Apple iPhone 12 Pro Max - 128GB - Pacific Blue...   Pre-owned   \n",
       "3     285.00  DAMAGED APPLE iPHONE 12 PRO MAX 128GB UNLOCKED...  Parts only   \n",
       "4     660.00              iPhone 12 Pro Max 512 GB Pacific Blue   Pre-owned   \n",
       "5     351.00  DAMAGED APPLE iPHONE 12 PRO MAX 128GB SMARTPHO...  Parts only   \n",
       "...      ...                                                ...         ...   \n",
       "5788  689.00  Apple iPhone 12 Pro Max - 256GB - Pacific Blue...   Pre-owned   \n",
       "5789  350.00  Apple iPhone 12 mini - 64GB - Midnight Blue (U...   Pre-owned   \n",
       "5790  340.00          Apple iPhone 12 - 64GB - Black (Unlocked)   Pre-owned   \n",
       "5791  104.00  Apple iPhone 12 SPARES & REPAIRS 64GB Black Un...  Parts only   \n",
       "5792  193.99  Apple iPhone 12 Pro A2407 SPARES AND REPAIRS 1...  Parts only   \n",
       "\n",
       "         Bids   Date_Sold  \n",
       "1      8 bids  1 Aug 2022  \n",
       "2     10 bids  1 Aug 2022  \n",
       "3     32 bids  1 Aug 2022  \n",
       "4      4 bids  1 Aug 2022  \n",
       "5     25 bids  1 Aug 2022  \n",
       "...       ...         ...  \n",
       "5788   3 bids  3 May 2022  \n",
       "5789  54 bids  3 May 2022  \n",
       "5790    1 bid  3 May 2022  \n",
       "5791  19 bids  3 May 2022  \n",
       "5792  37 bids  3 May 2022  \n",
       "\n",
       "[5694 rows x 5 columns]"
      ]
     },
     "execution_count": 27,
     "metadata": {},
     "output_type": "execute_result"
    }
   ],
   "source": [
    "df2 = df1[df1[\"Price\"].str.contains(\"£\")].copy()\n",
    "prices = df2[\"Price\"].str.lstrip(\"£\")\n",
    "prices = prices.str.replace(',','')\n",
    "df2[\"Price\"] = prices\n",
    "df2['Price'] = df2.Price.astype(float)  \n",
    "df2"
   ]
  },
  {
   "cell_type": "code",
   "execution_count": 28,
   "id": "27cd3da3",
   "metadata": {},
   "outputs": [
    {
     "data": {
      "text/plain": [
       "178.09082719794057"
      ]
     },
     "execution_count": 28,
     "metadata": {},
     "output_type": "execute_result"
    }
   ],
   "source": [
    "# Checking the standard deviation of prices that match these criteria\n",
    "# It's pretty large!\n",
    "df2.Price.std()\n"
   ]
  },
  {
   "cell_type": "code",
   "execution_count": 29,
   "id": "0efb5db3",
   "metadata": {},
   "outputs": [
    {
     "data": {
      "text/html": [
       "<div>\n",
       "<style scoped>\n",
       "    .dataframe tbody tr th:only-of-type {\n",
       "        vertical-align: middle;\n",
       "    }\n",
       "\n",
       "    .dataframe tbody tr th {\n",
       "        vertical-align: top;\n",
       "    }\n",
       "\n",
       "    .dataframe thead th {\n",
       "        text-align: right;\n",
       "    }\n",
       "</style>\n",
       "<table border=\"1\" class=\"dataframe\">\n",
       "  <thead>\n",
       "    <tr style=\"text-align: right;\">\n",
       "      <th></th>\n",
       "      <th>Price</th>\n",
       "      <th>Title</th>\n",
       "      <th>Subtitle</th>\n",
       "      <th>Bids</th>\n",
       "      <th>Date_Sold</th>\n",
       "    </tr>\n",
       "  </thead>\n",
       "  <tbody>\n",
       "    <tr>\n",
       "      <th>1</th>\n",
       "      <td>341.01</td>\n",
       "      <td>Apple iPhone 12 - 64GB - Blue (Unlocked) - Fas...</td>\n",
       "      <td>Pre-owned</td>\n",
       "      <td>8 bids</td>\n",
       "      <td>1 Aug 2022</td>\n",
       "    </tr>\n",
       "    <tr>\n",
       "      <th>2</th>\n",
       "      <td>585.00</td>\n",
       "      <td>Apple iPhone 12 Pro Max - 128GB - Pacific Blue...</td>\n",
       "      <td>Pre-owned</td>\n",
       "      <td>10 bids</td>\n",
       "      <td>1 Aug 2022</td>\n",
       "    </tr>\n",
       "    <tr>\n",
       "      <th>3</th>\n",
       "      <td>285.00</td>\n",
       "      <td>DAMAGED APPLE iPHONE 12 PRO MAX 128GB UNLOCKED...</td>\n",
       "      <td>Parts only</td>\n",
       "      <td>32 bids</td>\n",
       "      <td>1 Aug 2022</td>\n",
       "    </tr>\n",
       "    <tr>\n",
       "      <th>4</th>\n",
       "      <td>660.00</td>\n",
       "      <td>iPhone 12 Pro Max 512 GB Pacific Blue</td>\n",
       "      <td>Pre-owned</td>\n",
       "      <td>4 bids</td>\n",
       "      <td>1 Aug 2022</td>\n",
       "    </tr>\n",
       "    <tr>\n",
       "      <th>5</th>\n",
       "      <td>351.00</td>\n",
       "      <td>DAMAGED APPLE iPHONE 12 PRO MAX 128GB SMARTPHO...</td>\n",
       "      <td>Parts only</td>\n",
       "      <td>25 bids</td>\n",
       "      <td>1 Aug 2022</td>\n",
       "    </tr>\n",
       "    <tr>\n",
       "      <th>...</th>\n",
       "      <td>...</td>\n",
       "      <td>...</td>\n",
       "      <td>...</td>\n",
       "      <td>...</td>\n",
       "      <td>...</td>\n",
       "    </tr>\n",
       "    <tr>\n",
       "      <th>5788</th>\n",
       "      <td>689.00</td>\n",
       "      <td>Apple iPhone 12 Pro Max - 256GB - Pacific Blue...</td>\n",
       "      <td>Pre-owned</td>\n",
       "      <td>3 bids</td>\n",
       "      <td>3 May 2022</td>\n",
       "    </tr>\n",
       "    <tr>\n",
       "      <th>5789</th>\n",
       "      <td>350.00</td>\n",
       "      <td>Apple iPhone 12 mini - 64GB - Midnight Blue (U...</td>\n",
       "      <td>Pre-owned</td>\n",
       "      <td>54 bids</td>\n",
       "      <td>3 May 2022</td>\n",
       "    </tr>\n",
       "    <tr>\n",
       "      <th>5790</th>\n",
       "      <td>340.00</td>\n",
       "      <td>Apple iPhone 12 - 64GB - Black (Unlocked)</td>\n",
       "      <td>Pre-owned</td>\n",
       "      <td>1 bid</td>\n",
       "      <td>3 May 2022</td>\n",
       "    </tr>\n",
       "    <tr>\n",
       "      <th>5791</th>\n",
       "      <td>104.00</td>\n",
       "      <td>Apple iPhone 12 SPARES &amp; REPAIRS 64GB Black Un...</td>\n",
       "      <td>Parts only</td>\n",
       "      <td>19 bids</td>\n",
       "      <td>3 May 2022</td>\n",
       "    </tr>\n",
       "    <tr>\n",
       "      <th>5792</th>\n",
       "      <td>193.99</td>\n",
       "      <td>Apple iPhone 12 Pro A2407 SPARES AND REPAIRS 1...</td>\n",
       "      <td>Parts only</td>\n",
       "      <td>37 bids</td>\n",
       "      <td>3 May 2022</td>\n",
       "    </tr>\n",
       "  </tbody>\n",
       "</table>\n",
       "<p>5642 rows × 5 columns</p>\n",
       "</div>"
      ],
      "text/plain": [
       "       Price                                              Title    Subtitle  \\\n",
       "1     341.01  Apple iPhone 12 - 64GB - Blue (Unlocked) - Fas...   Pre-owned   \n",
       "2     585.00  Apple iPhone 12 Pro Max - 128GB - Pacific Blue...   Pre-owned   \n",
       "3     285.00  DAMAGED APPLE iPHONE 12 PRO MAX 128GB UNLOCKED...  Parts only   \n",
       "4     660.00              iPhone 12 Pro Max 512 GB Pacific Blue   Pre-owned   \n",
       "5     351.00  DAMAGED APPLE iPHONE 12 PRO MAX 128GB SMARTPHO...  Parts only   \n",
       "...      ...                                                ...         ...   \n",
       "5788  689.00  Apple iPhone 12 Pro Max - 256GB - Pacific Blue...   Pre-owned   \n",
       "5789  350.00  Apple iPhone 12 mini - 64GB - Midnight Blue (U...   Pre-owned   \n",
       "5790  340.00          Apple iPhone 12 - 64GB - Black (Unlocked)   Pre-owned   \n",
       "5791  104.00  Apple iPhone 12 SPARES & REPAIRS 64GB Black Un...  Parts only   \n",
       "5792  193.99  Apple iPhone 12 Pro A2407 SPARES AND REPAIRS 1...  Parts only   \n",
       "\n",
       "         Bids   Date_Sold  \n",
       "1      8 bids  1 Aug 2022  \n",
       "2     10 bids  1 Aug 2022  \n",
       "3     32 bids  1 Aug 2022  \n",
       "4      4 bids  1 Aug 2022  \n",
       "5     25 bids  1 Aug 2022  \n",
       "...       ...         ...  \n",
       "5788   3 bids  3 May 2022  \n",
       "5789  54 bids  3 May 2022  \n",
       "5790    1 bid  3 May 2022  \n",
       "5791  19 bids  3 May 2022  \n",
       "5792  37 bids  3 May 2022  \n",
       "\n",
       "[5642 rows x 5 columns]"
      ]
     },
     "execution_count": 29,
     "metadata": {},
     "output_type": "execute_result"
    }
   ],
   "source": [
    "pd.options.display.max_rows = 999\n",
    "df3 = df2[~df2[\"Title\"].str.contains(\"Faulty | 11 | 13 \")]\n",
    "df3\n",
    "\n"
   ]
  },
  {
   "cell_type": "markdown",
   "id": "06824497",
   "metadata": {},
   "source": [
    "This now actually looks pretty good as a cleaned up dataset that we can actually work on. We need to tweak the datetime problably and will need to get dummies and scale if we want any precidtive regression models."
   ]
  },
  {
   "cell_type": "code",
   "execution_count": 30,
   "id": "a88b4e4d",
   "metadata": {},
   "outputs": [
    {
     "data": {
      "text/html": [
       "<div>\n",
       "<style scoped>\n",
       "    .dataframe tbody tr th:only-of-type {\n",
       "        vertical-align: middle;\n",
       "    }\n",
       "\n",
       "    .dataframe tbody tr th {\n",
       "        vertical-align: top;\n",
       "    }\n",
       "\n",
       "    .dataframe thead th {\n",
       "        text-align: right;\n",
       "    }\n",
       "</style>\n",
       "<table border=\"1\" class=\"dataframe\">\n",
       "  <thead>\n",
       "    <tr style=\"text-align: right;\">\n",
       "      <th></th>\n",
       "      <th>Price</th>\n",
       "      <th>Title</th>\n",
       "      <th>Subtitle</th>\n",
       "      <th>Bids</th>\n",
       "      <th>Date_Sold</th>\n",
       "    </tr>\n",
       "  </thead>\n",
       "  <tbody>\n",
       "    <tr>\n",
       "      <th>1</th>\n",
       "      <td>341.01</td>\n",
       "      <td>Apple iPhone 12 - 64GB - Blue (Unlocked) - Fas...</td>\n",
       "      <td>Pre-owned</td>\n",
       "      <td>8 bids</td>\n",
       "      <td>2022-08-01</td>\n",
       "    </tr>\n",
       "    <tr>\n",
       "      <th>2</th>\n",
       "      <td>585.00</td>\n",
       "      <td>Apple iPhone 12 Pro Max - 128GB - Pacific Blue...</td>\n",
       "      <td>Pre-owned</td>\n",
       "      <td>10 bids</td>\n",
       "      <td>2022-08-01</td>\n",
       "    </tr>\n",
       "    <tr>\n",
       "      <th>3</th>\n",
       "      <td>285.00</td>\n",
       "      <td>DAMAGED APPLE iPHONE 12 PRO MAX 128GB UNLOCKED...</td>\n",
       "      <td>Parts only</td>\n",
       "      <td>32 bids</td>\n",
       "      <td>2022-08-01</td>\n",
       "    </tr>\n",
       "    <tr>\n",
       "      <th>4</th>\n",
       "      <td>660.00</td>\n",
       "      <td>iPhone 12 Pro Max 512 GB Pacific Blue</td>\n",
       "      <td>Pre-owned</td>\n",
       "      <td>4 bids</td>\n",
       "      <td>2022-08-01</td>\n",
       "    </tr>\n",
       "    <tr>\n",
       "      <th>5</th>\n",
       "      <td>351.00</td>\n",
       "      <td>DAMAGED APPLE iPHONE 12 PRO MAX 128GB SMARTPHO...</td>\n",
       "      <td>Parts only</td>\n",
       "      <td>25 bids</td>\n",
       "      <td>2022-08-01</td>\n",
       "    </tr>\n",
       "    <tr>\n",
       "      <th>...</th>\n",
       "      <td>...</td>\n",
       "      <td>...</td>\n",
       "      <td>...</td>\n",
       "      <td>...</td>\n",
       "      <td>...</td>\n",
       "    </tr>\n",
       "    <tr>\n",
       "      <th>5788</th>\n",
       "      <td>689.00</td>\n",
       "      <td>Apple iPhone 12 Pro Max - 256GB - Pacific Blue...</td>\n",
       "      <td>Pre-owned</td>\n",
       "      <td>3 bids</td>\n",
       "      <td>2022-05-03</td>\n",
       "    </tr>\n",
       "    <tr>\n",
       "      <th>5789</th>\n",
       "      <td>350.00</td>\n",
       "      <td>Apple iPhone 12 mini - 64GB - Midnight Blue (U...</td>\n",
       "      <td>Pre-owned</td>\n",
       "      <td>54 bids</td>\n",
       "      <td>2022-05-03</td>\n",
       "    </tr>\n",
       "    <tr>\n",
       "      <th>5790</th>\n",
       "      <td>340.00</td>\n",
       "      <td>Apple iPhone 12 - 64GB - Black (Unlocked)</td>\n",
       "      <td>Pre-owned</td>\n",
       "      <td>1 bid</td>\n",
       "      <td>2022-05-03</td>\n",
       "    </tr>\n",
       "    <tr>\n",
       "      <th>5791</th>\n",
       "      <td>104.00</td>\n",
       "      <td>Apple iPhone 12 SPARES &amp; REPAIRS 64GB Black Un...</td>\n",
       "      <td>Parts only</td>\n",
       "      <td>19 bids</td>\n",
       "      <td>2022-05-03</td>\n",
       "    </tr>\n",
       "    <tr>\n",
       "      <th>5792</th>\n",
       "      <td>193.99</td>\n",
       "      <td>Apple iPhone 12 Pro A2407 SPARES AND REPAIRS 1...</td>\n",
       "      <td>Parts only</td>\n",
       "      <td>37 bids</td>\n",
       "      <td>2022-05-03</td>\n",
       "    </tr>\n",
       "  </tbody>\n",
       "</table>\n",
       "<p>5642 rows × 5 columns</p>\n",
       "</div>"
      ],
      "text/plain": [
       "       Price                                              Title    Subtitle  \\\n",
       "1     341.01  Apple iPhone 12 - 64GB - Blue (Unlocked) - Fas...   Pre-owned   \n",
       "2     585.00  Apple iPhone 12 Pro Max - 128GB - Pacific Blue...   Pre-owned   \n",
       "3     285.00  DAMAGED APPLE iPHONE 12 PRO MAX 128GB UNLOCKED...  Parts only   \n",
       "4     660.00              iPhone 12 Pro Max 512 GB Pacific Blue   Pre-owned   \n",
       "5     351.00  DAMAGED APPLE iPHONE 12 PRO MAX 128GB SMARTPHO...  Parts only   \n",
       "...      ...                                                ...         ...   \n",
       "5788  689.00  Apple iPhone 12 Pro Max - 256GB - Pacific Blue...   Pre-owned   \n",
       "5789  350.00  Apple iPhone 12 mini - 64GB - Midnight Blue (U...   Pre-owned   \n",
       "5790  340.00          Apple iPhone 12 - 64GB - Black (Unlocked)   Pre-owned   \n",
       "5791  104.00  Apple iPhone 12 SPARES & REPAIRS 64GB Black Un...  Parts only   \n",
       "5792  193.99  Apple iPhone 12 Pro A2407 SPARES AND REPAIRS 1...  Parts only   \n",
       "\n",
       "         Bids  Date_Sold  \n",
       "1      8 bids 2022-08-01  \n",
       "2     10 bids 2022-08-01  \n",
       "3     32 bids 2022-08-01  \n",
       "4      4 bids 2022-08-01  \n",
       "5     25 bids 2022-08-01  \n",
       "...       ...        ...  \n",
       "5788   3 bids 2022-05-03  \n",
       "5789  54 bids 2022-05-03  \n",
       "5790    1 bid 2022-05-03  \n",
       "5791  19 bids 2022-05-03  \n",
       "5792  37 bids 2022-05-03  \n",
       "\n",
       "[5642 rows x 5 columns]"
      ]
     },
     "execution_count": 30,
     "metadata": {},
     "output_type": "execute_result"
    }
   ],
   "source": [
    "df4 = df3.copy()\n",
    "df4['Date_Sold'] = pd.to_datetime(df4['Date_Sold'])\n",
    "df4\n"
   ]
  },
  {
   "cell_type": "markdown",
   "id": "ae4c7220",
   "metadata": {},
   "source": [
    "Now that we have all the data well cleaned and in a format we are interested in we can start doing sensible things like removing outliers. For this we will use a z-score of 3 or more to remove outliers. "
   ]
  },
  {
   "cell_type": "code",
   "execution_count": 35,
   "id": "f433f561",
   "metadata": {},
   "outputs": [
    {
     "data": {
      "text/html": [
       "<div>\n",
       "<style scoped>\n",
       "    .dataframe tbody tr th:only-of-type {\n",
       "        vertical-align: middle;\n",
       "    }\n",
       "\n",
       "    .dataframe tbody tr th {\n",
       "        vertical-align: top;\n",
       "    }\n",
       "\n",
       "    .dataframe thead th {\n",
       "        text-align: right;\n",
       "    }\n",
       "</style>\n",
       "<table border=\"1\" class=\"dataframe\">\n",
       "  <thead>\n",
       "    <tr style=\"text-align: right;\">\n",
       "      <th></th>\n",
       "      <th>Price</th>\n",
       "      <th>Title</th>\n",
       "      <th>Subtitle</th>\n",
       "      <th>Bids</th>\n",
       "      <th>Date_Sold</th>\n",
       "      <th>z_score_price</th>\n",
       "    </tr>\n",
       "  </thead>\n",
       "  <tbody>\n",
       "    <tr>\n",
       "      <th>1</th>\n",
       "      <td>341.01</td>\n",
       "      <td>Apple iPhone 12 - 64GB - Blue (Unlocked) - Fas...</td>\n",
       "      <td>Pre-owned</td>\n",
       "      <td>8 bids</td>\n",
       "      <td>2022-08-01</td>\n",
       "      <td>-0.430851</td>\n",
       "    </tr>\n",
       "    <tr>\n",
       "      <th>2</th>\n",
       "      <td>585.00</td>\n",
       "      <td>Apple iPhone 12 Pro Max - 128GB - Pacific Blue...</td>\n",
       "      <td>Pre-owned</td>\n",
       "      <td>10 bids</td>\n",
       "      <td>2022-08-01</td>\n",
       "      <td>0.969801</td>\n",
       "    </tr>\n",
       "    <tr>\n",
       "      <th>3</th>\n",
       "      <td>285.00</td>\n",
       "      <td>DAMAGED APPLE iPHONE 12 PRO MAX 128GB UNLOCKED...</td>\n",
       "      <td>Parts only</td>\n",
       "      <td>32 bids</td>\n",
       "      <td>2022-08-01</td>\n",
       "      <td>-0.752383</td>\n",
       "    </tr>\n",
       "    <tr>\n",
       "      <th>4</th>\n",
       "      <td>660.00</td>\n",
       "      <td>iPhone 12 Pro Max 512 GB Pacific Blue</td>\n",
       "      <td>Pre-owned</td>\n",
       "      <td>4 bids</td>\n",
       "      <td>2022-08-01</td>\n",
       "      <td>1.400347</td>\n",
       "    </tr>\n",
       "    <tr>\n",
       "      <th>5</th>\n",
       "      <td>351.00</td>\n",
       "      <td>DAMAGED APPLE iPHONE 12 PRO MAX 128GB SMARTPHO...</td>\n",
       "      <td>Parts only</td>\n",
       "      <td>25 bids</td>\n",
       "      <td>2022-08-01</td>\n",
       "      <td>-0.373502</td>\n",
       "    </tr>\n",
       "    <tr>\n",
       "      <th>...</th>\n",
       "      <td>...</td>\n",
       "      <td>...</td>\n",
       "      <td>...</td>\n",
       "      <td>...</td>\n",
       "      <td>...</td>\n",
       "      <td>...</td>\n",
       "    </tr>\n",
       "    <tr>\n",
       "      <th>5786</th>\n",
       "      <td>310.00</td>\n",
       "      <td>Apple iPhone 12 - 128GB - Purple (Unlocked)</td>\n",
       "      <td>Brand new</td>\n",
       "      <td>7 bids</td>\n",
       "      <td>2022-05-03</td>\n",
       "      <td>-0.608867</td>\n",
       "    </tr>\n",
       "    <tr>\n",
       "      <th>5787</th>\n",
       "      <td>598.00</td>\n",
       "      <td>Apple iPhone 12 Pro Max - 256GB - Pacific Blue...</td>\n",
       "      <td>Pre-owned</td>\n",
       "      <td>21 bids</td>\n",
       "      <td>2022-05-03</td>\n",
       "      <td>1.044429</td>\n",
       "    </tr>\n",
       "    <tr>\n",
       "      <th>5789</th>\n",
       "      <td>350.00</td>\n",
       "      <td>Apple iPhone 12 mini - 64GB - Midnight Blue (U...</td>\n",
       "      <td>Pre-owned</td>\n",
       "      <td>54 bids</td>\n",
       "      <td>2022-05-03</td>\n",
       "      <td>-0.379243</td>\n",
       "    </tr>\n",
       "    <tr>\n",
       "      <th>5790</th>\n",
       "      <td>340.00</td>\n",
       "      <td>Apple iPhone 12 - 64GB - Black (Unlocked)</td>\n",
       "      <td>Pre-owned</td>\n",
       "      <td>1 bid</td>\n",
       "      <td>2022-05-03</td>\n",
       "      <td>-0.436649</td>\n",
       "    </tr>\n",
       "    <tr>\n",
       "      <th>5792</th>\n",
       "      <td>193.99</td>\n",
       "      <td>Apple iPhone 12 Pro A2407 SPARES AND REPAIRS 1...</td>\n",
       "      <td>Parts only</td>\n",
       "      <td>37 bids</td>\n",
       "      <td>2022-05-03</td>\n",
       "      <td>-1.274836</td>\n",
       "    </tr>\n",
       "  </tbody>\n",
       "</table>\n",
       "<p>4966 rows × 6 columns</p>\n",
       "</div>"
      ],
      "text/plain": [
       "       Price                                              Title    Subtitle  \\\n",
       "1     341.01  Apple iPhone 12 - 64GB - Blue (Unlocked) - Fas...   Pre-owned   \n",
       "2     585.00  Apple iPhone 12 Pro Max - 128GB - Pacific Blue...   Pre-owned   \n",
       "3     285.00  DAMAGED APPLE iPHONE 12 PRO MAX 128GB UNLOCKED...  Parts only   \n",
       "4     660.00              iPhone 12 Pro Max 512 GB Pacific Blue   Pre-owned   \n",
       "5     351.00  DAMAGED APPLE iPHONE 12 PRO MAX 128GB SMARTPHO...  Parts only   \n",
       "...      ...                                                ...         ...   \n",
       "5786  310.00        Apple iPhone 12 - 128GB - Purple (Unlocked)   Brand new   \n",
       "5787  598.00  Apple iPhone 12 Pro Max - 256GB - Pacific Blue...   Pre-owned   \n",
       "5789  350.00  Apple iPhone 12 mini - 64GB - Midnight Blue (U...   Pre-owned   \n",
       "5790  340.00          Apple iPhone 12 - 64GB - Black (Unlocked)   Pre-owned   \n",
       "5792  193.99  Apple iPhone 12 Pro A2407 SPARES AND REPAIRS 1...  Parts only   \n",
       "\n",
       "         Bids  Date_Sold  z_score_price  \n",
       "1      8 bids 2022-08-01      -0.430851  \n",
       "2     10 bids 2022-08-01       0.969801  \n",
       "3     32 bids 2022-08-01      -0.752383  \n",
       "4      4 bids 2022-08-01       1.400347  \n",
       "5     25 bids 2022-08-01      -0.373502  \n",
       "...       ...        ...            ...  \n",
       "5786   7 bids 2022-05-03      -0.608867  \n",
       "5787  21 bids 2022-05-03       1.044429  \n",
       "5789  54 bids 2022-05-03      -0.379243  \n",
       "5790    1 bid 2022-05-03      -0.436649  \n",
       "5792  37 bids 2022-05-03      -1.274836  \n",
       "\n",
       "[4966 rows x 6 columns]"
      ]
     },
     "execution_count": 35,
     "metadata": {},
     "output_type": "execute_result"
    }
   ],
   "source": [
    "# First we will create a zscore column\n",
    "df4[\"z_score_price\"] = (df4.Price - df4.Price.mean())/df4.Price.std()\n",
    "# Then we will filter based on zscore for prices\n",
    "df5 = df4[df4[\"z_score_price\"].between(-1.5,1.5)]\n",
    "df5\n",
    "\n",
    "# Here we chose a z score filter of 1.5 standard deviations either side of the mean \n",
    "# This is because we don't expect the price of a well defined commodity to vary that much\n",
    "# I still haven't split the dataset into different RAM options yet\n",
    "\n"
   ]
  },
  {
   "cell_type": "code",
   "execution_count": 46,
   "id": "eb53a0c9",
   "metadata": {},
   "outputs": [],
   "source": [
    "# Now we will filter the dataset so that we are specifically looking at different memory models\n",
    "df5_64GB = df5[df5[\"Title\"].str.contains(\"64GB\").copy()]\n",
    "df5_128GB = df5[df5[\"Title\"].str.contains(\"128GB\").copy()]\n",
    "df5_256GB = df5[df5[\"Title\"].str.contains(\"256GB\").copy()]"
   ]
  },
  {
   "cell_type": "code",
   "execution_count": 47,
   "id": "d06ebbb2",
   "metadata": {},
   "outputs": [
    {
     "data": {
      "text/plain": [
       "88.77334413487269"
      ]
     },
     "execution_count": 47,
     "metadata": {},
     "output_type": "execute_result"
    }
   ],
   "source": [
    "df5_64GB.Price.std()"
   ]
  },
  {
   "cell_type": "code",
   "execution_count": 63,
   "id": "45ce9e22",
   "metadata": {},
   "outputs": [
    {
     "data": {
      "text/plain": [
       "[Text(0.5, 1.0, '64GB iPhone 12 for sale')]"
      ]
     },
     "execution_count": 63,
     "metadata": {},
     "output_type": "execute_result"
    },
    {
     "data": {
      "image/png": "[encoded data removed]",
      "text/plain": [
       "<Figure size 432x288 with 1 Axes>"
      ]
     },
     "metadata": {
      "needs_background": "light"
     },
     "output_type": "display_data"
    }
   ],
   "source": [
    "import seaborn as sns\n",
    "sns.histplot(data=df5_64GB['Price'], kde=True).set(title = '64GB iPhone 12 for sale')"
   ]
  },
  {
   "cell_type": "code",
   "execution_count": 65,
   "id": "83329979",
   "metadata": {},
   "outputs": [
    {
     "data": {
      "text/plain": [
       "[Text(0.5, 1.0, '128GB iPhone 12 for sale')]"
      ]
     },
     "execution_count": 65,
     "metadata": {},
     "output_type": "execute_result"
    },
    {
     "data": {
      "image/png": "[encoded data removed]",
      "text/plain": [
       "<Figure size 432x288 with 1 Axes>"
      ]
     },
     "metadata": {
      "needs_background": "light"
     },
     "output_type": "display_data"
    }
   ],
   "source": [
    "sns.histplot(data=df5_128GB['Price'], kde=True).set(title = '128GB iPhone 12 for sale')"
   ]
  },
  {
   "cell_type": "code",
   "execution_count": 64,
   "id": "7e7ca5c9",
   "metadata": {},
   "outputs": [
    {
     "data": {
      "text/plain": [
       "[Text(0.5, 1.0, '256GB iPhone 12 for sale')]"
      ]
     },
     "execution_count": 64,
     "metadata": {},
     "output_type": "execute_result"
    },
    {
     "data": {
      "image/png": "[encoded data removed]",
      "text/plain": [
       "<Figure size 432x288 with 1 Axes>"
      ]
     },
     "metadata": {
      "needs_background": "light"
     },
     "output_type": "display_data"
    }
   ],
   "source": [
    "sns.histplot(data=df5_256GB['Price'], kde=True).set(title = '256GB iPhone 12 for sale')"
   ]
  },
  {
   "cell_type": "markdown",
   "id": "da6a3921",
   "metadata": {},
   "source": [
    "Now we at least have a nice early sense of some of the behaviour of the data we can look at some of our earlier questions: "
   ]
  },
  {
   "cell_type": "code",
   "execution_count": 66,
   "id": "9892bbcb",
   "metadata": {},
   "outputs": [
    {
     "data": {
      "text/plain": [
       "402.74899718082963"
      ]
     },
     "execution_count": 66,
     "metadata": {},
     "output_type": "execute_result"
    }
   ],
   "source": [
    "# 1. What is the typical cost of a specific kind of iPhone? \n",
    "df5.Price.mean()"
   ]
  },
  {
   "cell_type": "markdown",
   "id": "eb5d556b",
   "metadata": {},
   "source": [
    "The mean price for an iPhone 12 sold in the last couple of months at auction is £402.75. However as we will see this does seem to depend a lot on some other factors"
   ]
  },
  {
   "cell_type": "code",
   "execution_count": 67,
   "id": "8a67379b",
   "metadata": {},
   "outputs": [
    {
     "data": {
      "text/plain": [
       "125.59121370237587"
      ]
     },
     "execution_count": 67,
     "metadata": {},
     "output_type": "execute_result"
    }
   ],
   "source": [
    "# 2. What is the variation around this price? \n",
    "df5.Price.std()"
   ]
  },
  {
   "cell_type": "markdown",
   "id": "9175b9d0",
   "metadata": {},
   "source": [
    "The standard deviation for this value is actually pretty large. This is not surprising because these auctions will include new as well as used phones and will include phones with different amounts of storage. Furthermore some phones will have been unlocked and some will not. All of these factors are likely to be important in determining the value of the phone eventually. \n",
    "\n",
    "It is probably worth noting that, at the sampling level we have achieved here the total distribution of prices doesn't look that normal:"
   ]
  },
  {
   "cell_type": "code",
   "execution_count": 69,
   "id": "540442c8",
   "metadata": {},
   "outputs": [
    {
     "data": {
      "text/plain": [
       "[Text(0.5, 1.0, 'All iPhone 12 for sale')]"
      ]
     },
     "execution_count": 69,
     "metadata": {},
     "output_type": "execute_result"
    },
    {
     "data": {
      "image/png": "[encoded data removed]",
      "text/plain": [
       "<Figure size 432x288 with 1 Axes>"
      ]
     },
     "metadata": {
      "needs_background": "light"
     },
     "output_type": "display_data"
    }
   ],
   "source": [
    "sns.histplot(data=df5['Price'], kde=True).set(title = 'All iPhone 12 for sale')"
   ]
  },
  {
   "cell_type": "markdown",
   "id": "538534c8",
   "metadata": {},
   "source": [
    "Three distinct peaks in this KDE function might indicate some degree of tri-modal behaviour. This would follow as the ohone mainkly comes in 64GB, 128GB and 256GB storage options with a very rare 512GB option which contributes far less than the others. "
   ]
  },
  {
   "cell_type": "markdown",
   "id": "d446a0fe",
   "metadata": {},
   "source": [
    "#### 3. How quickly does the value of an iPhone fall when new generations are released\n",
    "\n",
    "#### 4. Is price variance similar across all models\n",
    "\n",
    "\n",
    "We are now moving into questions that we need to set up multiple scrapes to answer. However we can check whether there is similar variance in pricing among different memory versions of the sample model. Later on we can make a filter to separate used from new, under the assumption that the price of new phones would vary by less than that of old phones. "
   ]
  },
  {
   "cell_type": "code",
   "execution_count": 78,
   "id": "b89ccd4f",
   "metadata": {},
   "outputs": [
    {
     "data": {
      "text/plain": [
       "[88.77334413487269, 120.42748500921071, 132.78626161168586]"
      ]
     },
     "execution_count": 78,
     "metadata": {},
     "output_type": "execute_result"
    }
   ],
   "source": [
    "dataframes = [df5_64GB, df5_128GB, df5_256GB]\n",
    "stds = []\n",
    "\n",
    "for dataframe in dataframes:\n",
    "    stds.append(dataframe['Price'].std())\n",
    "    \n",
    "stds"
   ]
  },
  {
   "cell_type": "markdown",
   "id": "9c264674",
   "metadata": {},
   "source": [
    "This is a pretty nice indication that the standard deviations appear to increase as we move to larger storage versions of the iPhone. This could be a real result but I think is also likely to be because we have more data from the smaller capacity iPhones as there are more of these for sale. "
   ]
  },
  {
   "cell_type": "code",
   "execution_count": null,
   "id": "016f956d",
   "metadata": {},
   "outputs": [],
   "source": []
  },
  {
   "cell_type": "code",
   "execution_count": null,
   "id": "454013ec",
   "metadata": {},
   "outputs": [],
   "source": []
  }
 ],
 "metadata": {
  "kernelspec": {
   "display_name": "Python 3 (ipykernel)",
   "language": "python",
   "name": "python3"
  },
  "language_info": {
   "codemirror_mode": {
    "name": "ipython",
    "version": 3
   },
   "file_extension": ".py",
   "mimetype": "text/x-python",
   "name": "python",
   "nbconvert_exporter": "python",
   "pygments_lexer": "ipython3",
   "version": "3.9.7"
  }
 },
 "nbformat": 4,
 "nbformat_minor": 5
}
